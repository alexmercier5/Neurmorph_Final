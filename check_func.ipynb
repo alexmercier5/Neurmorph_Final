{
 "cells": [
  {
   "cell_type": "code",
   "execution_count": 31,
   "metadata": {},
   "outputs": [],
   "source": [
    "import matplotlib.pyplot as plt\n",
    "import numpy as np\n",
    "\n",
    "import nengo\n",
    "from nengo.processes import Piecewise\n",
    "from nengo.processes import WhiteSignal\n",
    "from nengo.solvers import LstsqL2"
   ]
  },
  {
   "cell_type": "code",
   "execution_count": 32,
   "metadata": {},
   "outputs": [
    {
     "ename": "ValidationError",
     "evalue": "Ensemble.encoders: shape[1] should be 2 (got 1)",
     "output_type": "error",
     "traceback": [
      "\u001b[0;31m---------------------------------------------------------------------------\u001b[0m",
      "\u001b[0;31mValidationError\u001b[0m                           Traceback (most recent call last)",
      "    \u001b[0;31m[... skipping hidden 1 frame]\u001b[0m\n",
      "Cell \u001b[0;32mIn[32], line 18\u001b[0m\n\u001b[1;32m     17\u001b[0m ensB \u001b[38;5;241m=\u001b[39m nengo\u001b[38;5;241m.\u001b[39mEnsemble(n_neurons\u001b[38;5;241m=\u001b[39m\u001b[38;5;241m100\u001b[39m, dimensions \u001b[38;5;241m=\u001b[39m \u001b[38;5;241m1\u001b[39m, encoders\u001b[38;5;241m=\u001b[39mencoders)\n\u001b[0;32m---> 18\u001b[0m combine \u001b[38;5;241m=\u001b[39m \u001b[43mnengo\u001b[49m\u001b[38;5;241;43m.\u001b[39;49m\u001b[43mEnsemble\u001b[49m\u001b[43m(\u001b[49m\u001b[43mn_neurons\u001b[49m\u001b[38;5;241;43m=\u001b[39;49m\u001b[38;5;241;43m100\u001b[39;49m\u001b[43m,\u001b[49m\u001b[43m \u001b[49m\u001b[43mdimensions\u001b[49m\u001b[43m \u001b[49m\u001b[38;5;241;43m=\u001b[39;49m\u001b[43m \u001b[49m\u001b[38;5;241;43m2\u001b[39;49m\u001b[43m,\u001b[49m\u001b[43m \u001b[49m\u001b[43mencoders\u001b[49m\u001b[38;5;241;43m=\u001b[39;49m\u001b[43mencoders\u001b[49m\u001b[43m)\u001b[49m\n\u001b[1;32m     19\u001b[0m nengo\u001b[38;5;241m.\u001b[39mConnection(nodeB, ensB)\n",
      "File \u001b[0;32m~/.local/lib/python3.10/site-packages/nengo/base.py:35\u001b[0m, in \u001b[0;36mNetworkMember.__call__\u001b[0;34m(cls, *args, **kwargs)\u001b[0m\n\u001b[1;32m     34\u001b[0m \u001b[38;5;66;03m# Do the __init__ before adding in case __init__ errors out\u001b[39;00m\n\u001b[0;32m---> 35\u001b[0m \u001b[43minst\u001b[49m\u001b[38;5;241;43m.\u001b[39;49m\u001b[38;5;21;43m__init__\u001b[39;49m\u001b[43m(\u001b[49m\u001b[38;5;241;43m*\u001b[39;49m\u001b[43margs\u001b[49m\u001b[43m,\u001b[49m\u001b[43m \u001b[49m\u001b[38;5;241;43m*\u001b[39;49m\u001b[38;5;241;43m*\u001b[39;49m\u001b[43mkwargs\u001b[49m\u001b[43m)\u001b[49m\n\u001b[1;32m     36\u001b[0m \u001b[38;5;28;01mif\u001b[39;00m add_to_container:\n",
      "File \u001b[0;32m~/.local/lib/python3.10/site-packages/nengo/ensemble.py:165\u001b[0m, in \u001b[0;36mEnsemble.__init__\u001b[0;34m(self, n_neurons, dimensions, radius, encoders, intercepts, max_rates, eval_points, n_eval_points, neuron_type, gain, bias, noise, normalize_encoders, label, seed)\u001b[0m\n\u001b[1;32m    164\u001b[0m \u001b[38;5;28mself\u001b[39m\u001b[38;5;241m.\u001b[39mradius \u001b[38;5;241m=\u001b[39m radius\n\u001b[0;32m--> 165\u001b[0m \u001b[38;5;28;43mself\u001b[39;49m\u001b[38;5;241;43m.\u001b[39;49m\u001b[43mencoders\u001b[49m \u001b[38;5;241m=\u001b[39m encoders\n\u001b[1;32m    166\u001b[0m \u001b[38;5;28mself\u001b[39m\u001b[38;5;241m.\u001b[39mintercepts \u001b[38;5;241m=\u001b[39m intercepts\n",
      "File \u001b[0;32m~/.local/lib/python3.10/site-packages/nengo/base.py:110\u001b[0m, in \u001b[0;36mNengoObject.__setattr__\u001b[0;34m(self, name, val)\u001b[0m\n\u001b[1;32m    105\u001b[0m     warnings\u001b[38;5;241m.\u001b[39mwarn(\n\u001b[1;32m    106\u001b[0m         \u001b[38;5;124mf\u001b[39m\u001b[38;5;124m\"\u001b[39m\u001b[38;5;124mCreating new attribute \u001b[39m\u001b[38;5;124m'\u001b[39m\u001b[38;5;132;01m{\u001b[39;00mname\u001b[38;5;132;01m}\u001b[39;00m\u001b[38;5;124m'\u001b[39m\u001b[38;5;124m on \u001b[39m\u001b[38;5;124m'\u001b[39m\u001b[38;5;132;01m{\u001b[39;00m\u001b[38;5;28mself\u001b[39m\u001b[38;5;132;01m}\u001b[39;00m\u001b[38;5;124m'\u001b[39m\u001b[38;5;124m. \u001b[39m\u001b[38;5;124m\"\u001b[39m\n\u001b[1;32m    107\u001b[0m         \u001b[38;5;124m\"\u001b[39m\u001b[38;5;124mDid you mean to change an existing attribute?\u001b[39m\u001b[38;5;124m\"\u001b[39m,\n\u001b[1;32m    108\u001b[0m         \u001b[38;5;167;01mSyntaxWarning\u001b[39;00m,\n\u001b[1;32m    109\u001b[0m     )\n\u001b[0;32m--> 110\u001b[0m \u001b[38;5;28;43msuper\u001b[39;49m\u001b[43m(\u001b[49m\u001b[43m)\u001b[49m\u001b[38;5;241;43m.\u001b[39;49m\u001b[38;5;21;43m__setattr__\u001b[39;49m\u001b[43m(\u001b[49m\u001b[43mname\u001b[49m\u001b[43m,\u001b[49m\u001b[43m \u001b[49m\u001b[43mval\u001b[49m\u001b[43m)\u001b[49m\n",
      "File \u001b[0;32m~/.local/lib/python3.10/site-packages/nengo/config.py:487\u001b[0m, in \u001b[0;36mSupportDefaultsMixin.__setattr__\u001b[0;34m(self, name, val)\u001b[0m\n\u001b[1;32m    486\u001b[0m         exc_info \u001b[38;5;241m=\u001b[39m sys\u001b[38;5;241m.\u001b[39mexc_info()\n\u001b[0;32m--> 487\u001b[0m         \u001b[38;5;28;01mraise\u001b[39;00m exc_info[\u001b[38;5;241m1\u001b[39m]\u001b[38;5;241m.\u001b[39mwith_traceback(\u001b[38;5;28;01mNone\u001b[39;00m) \u001b[38;5;28;01mfrom\u001b[39;00m \u001b[38;5;21;01me\u001b[39;00m\n\u001b[1;32m    488\u001b[0m \u001b[38;5;28;01melse\u001b[39;00m:\n",
      "\u001b[0;31mValidationError\u001b[0m: Ensemble.encoders: shape[1] should be 2 (got 1)",
      "\nThe above exception was the direct cause of the following exception:\n",
      "\u001b[0;31mValidationError\u001b[0m                           Traceback (most recent call last)",
      "    \u001b[0;31m[... skipping hidden 1 frame]\u001b[0m\n",
      "Cell \u001b[0;32mIn[32], line 18\u001b[0m\n\u001b[1;32m     17\u001b[0m ensB \u001b[38;5;241m=\u001b[39m nengo\u001b[38;5;241m.\u001b[39mEnsemble(n_neurons\u001b[38;5;241m=\u001b[39m\u001b[38;5;241m100\u001b[39m, dimensions \u001b[38;5;241m=\u001b[39m \u001b[38;5;241m1\u001b[39m, encoders\u001b[38;5;241m=\u001b[39mencoders)\n\u001b[0;32m---> 18\u001b[0m combine \u001b[38;5;241m=\u001b[39m \u001b[43mnengo\u001b[49m\u001b[38;5;241;43m.\u001b[39;49m\u001b[43mEnsemble\u001b[49m\u001b[43m(\u001b[49m\u001b[43mn_neurons\u001b[49m\u001b[38;5;241;43m=\u001b[39;49m\u001b[38;5;241;43m100\u001b[39;49m\u001b[43m,\u001b[49m\u001b[43m \u001b[49m\u001b[43mdimensions\u001b[49m\u001b[43m \u001b[49m\u001b[38;5;241;43m=\u001b[39;49m\u001b[43m \u001b[49m\u001b[38;5;241;43m2\u001b[39;49m\u001b[43m,\u001b[49m\u001b[43m \u001b[49m\u001b[43mencoders\u001b[49m\u001b[38;5;241;43m=\u001b[39;49m\u001b[43mencoders\u001b[49m\u001b[43m)\u001b[49m\n\u001b[1;32m     19\u001b[0m nengo\u001b[38;5;241m.\u001b[39mConnection(nodeB, ensB)\n",
      "File \u001b[0;32m~/.local/lib/python3.10/site-packages/nengo/base.py:35\u001b[0m, in \u001b[0;36mNetworkMember.__call__\u001b[0;34m(cls, *args, **kwargs)\u001b[0m\n\u001b[1;32m     34\u001b[0m \u001b[38;5;66;03m# Do the __init__ before adding in case __init__ errors out\u001b[39;00m\n\u001b[0;32m---> 35\u001b[0m \u001b[43minst\u001b[49m\u001b[38;5;241;43m.\u001b[39;49m\u001b[38;5;21;43m__init__\u001b[39;49m\u001b[43m(\u001b[49m\u001b[38;5;241;43m*\u001b[39;49m\u001b[43margs\u001b[49m\u001b[43m,\u001b[49m\u001b[43m \u001b[49m\u001b[38;5;241;43m*\u001b[39;49m\u001b[38;5;241;43m*\u001b[39;49m\u001b[43mkwargs\u001b[49m\u001b[43m)\u001b[49m\n\u001b[1;32m     36\u001b[0m \u001b[38;5;28;01mif\u001b[39;00m add_to_container:\n",
      "File \u001b[0;32m~/.local/lib/python3.10/site-packages/nengo/ensemble.py:165\u001b[0m, in \u001b[0;36mEnsemble.__init__\u001b[0;34m(self, n_neurons, dimensions, radius, encoders, intercepts, max_rates, eval_points, n_eval_points, neuron_type, gain, bias, noise, normalize_encoders, label, seed)\u001b[0m\n\u001b[1;32m    164\u001b[0m \u001b[38;5;28mself\u001b[39m\u001b[38;5;241m.\u001b[39mradius \u001b[38;5;241m=\u001b[39m radius\n\u001b[0;32m--> 165\u001b[0m \u001b[38;5;28;43mself\u001b[39;49m\u001b[38;5;241;43m.\u001b[39;49m\u001b[43mencoders\u001b[49m \u001b[38;5;241m=\u001b[39m encoders\n\u001b[1;32m    166\u001b[0m \u001b[38;5;28mself\u001b[39m\u001b[38;5;241m.\u001b[39mintercepts \u001b[38;5;241m=\u001b[39m intercepts\n",
      "File \u001b[0;32m~/.local/lib/python3.10/site-packages/nengo/base.py:110\u001b[0m, in \u001b[0;36mNengoObject.__setattr__\u001b[0;34m(self, name, val)\u001b[0m\n\u001b[1;32m    105\u001b[0m     warnings\u001b[38;5;241m.\u001b[39mwarn(\n\u001b[1;32m    106\u001b[0m         \u001b[38;5;124mf\u001b[39m\u001b[38;5;124m\"\u001b[39m\u001b[38;5;124mCreating new attribute \u001b[39m\u001b[38;5;124m'\u001b[39m\u001b[38;5;132;01m{\u001b[39;00mname\u001b[38;5;132;01m}\u001b[39;00m\u001b[38;5;124m'\u001b[39m\u001b[38;5;124m on \u001b[39m\u001b[38;5;124m'\u001b[39m\u001b[38;5;132;01m{\u001b[39;00m\u001b[38;5;28mself\u001b[39m\u001b[38;5;132;01m}\u001b[39;00m\u001b[38;5;124m'\u001b[39m\u001b[38;5;124m. \u001b[39m\u001b[38;5;124m\"\u001b[39m\n\u001b[1;32m    107\u001b[0m         \u001b[38;5;124m\"\u001b[39m\u001b[38;5;124mDid you mean to change an existing attribute?\u001b[39m\u001b[38;5;124m\"\u001b[39m,\n\u001b[1;32m    108\u001b[0m         \u001b[38;5;167;01mSyntaxWarning\u001b[39;00m,\n\u001b[1;32m    109\u001b[0m     )\n\u001b[0;32m--> 110\u001b[0m \u001b[38;5;28;43msuper\u001b[39;49m\u001b[43m(\u001b[49m\u001b[43m)\u001b[49m\u001b[38;5;241;43m.\u001b[39;49m\u001b[38;5;21;43m__setattr__\u001b[39;49m\u001b[43m(\u001b[49m\u001b[43mname\u001b[49m\u001b[43m,\u001b[49m\u001b[43m \u001b[49m\u001b[43mval\u001b[49m\u001b[43m)\u001b[49m\n",
      "File \u001b[0;32m~/.local/lib/python3.10/site-packages/nengo/config.py:487\u001b[0m, in \u001b[0;36mSupportDefaultsMixin.__setattr__\u001b[0;34m(self, name, val)\u001b[0m\n\u001b[1;32m    486\u001b[0m         exc_info \u001b[38;5;241m=\u001b[39m sys\u001b[38;5;241m.\u001b[39mexc_info()\n\u001b[0;32m--> 487\u001b[0m         \u001b[38;5;28;01mraise\u001b[39;00m exc_info[\u001b[38;5;241m1\u001b[39m]\u001b[38;5;241m.\u001b[39mwith_traceback(\u001b[38;5;28;01mNone\u001b[39;00m) \u001b[38;5;28;01mfrom\u001b[39;00m \u001b[38;5;21;01me\u001b[39;00m\n\u001b[1;32m    488\u001b[0m \u001b[38;5;28;01melse\u001b[39;00m:\n",
      "\u001b[0;31mValidationError\u001b[0m: Ensemble.encoders: shape[1] should be 2 (got 1)",
      "\nThe above exception was the direct cause of the following exception:\n",
      "\u001b[0;31mValidationError\u001b[0m                           Traceback (most recent call last)",
      "Cell \u001b[0;32mIn[32], line 18\u001b[0m\n\u001b[1;32m     16\u001b[0m nodeB \u001b[38;5;241m=\u001b[39m nengo\u001b[38;5;241m.\u001b[39mNode(inp2)\n\u001b[1;32m     17\u001b[0m ensB \u001b[38;5;241m=\u001b[39m nengo\u001b[38;5;241m.\u001b[39mEnsemble(n_neurons\u001b[38;5;241m=\u001b[39m\u001b[38;5;241m100\u001b[39m, dimensions \u001b[38;5;241m=\u001b[39m \u001b[38;5;241m1\u001b[39m, encoders\u001b[38;5;241m=\u001b[39mencoders)\n\u001b[0;32m---> 18\u001b[0m combine \u001b[38;5;241m=\u001b[39m \u001b[43mnengo\u001b[49m\u001b[38;5;241;43m.\u001b[39;49m\u001b[43mEnsemble\u001b[49m\u001b[43m(\u001b[49m\u001b[43mn_neurons\u001b[49m\u001b[38;5;241;43m=\u001b[39;49m\u001b[38;5;241;43m100\u001b[39;49m\u001b[43m,\u001b[49m\u001b[43m \u001b[49m\u001b[43mdimensions\u001b[49m\u001b[43m \u001b[49m\u001b[38;5;241;43m=\u001b[39;49m\u001b[43m \u001b[49m\u001b[38;5;241;43m2\u001b[39;49m\u001b[43m,\u001b[49m\u001b[43m \u001b[49m\u001b[43mencoders\u001b[49m\u001b[38;5;241;43m=\u001b[39;49m\u001b[43mencoders\u001b[49m\u001b[43m)\u001b[49m\n\u001b[1;32m     19\u001b[0m nengo\u001b[38;5;241m.\u001b[39mConnection(nodeB, ensB)\n\u001b[1;32m     20\u001b[0m nengo\u001b[38;5;241m.\u001b[39mConnection(nodeA, ensA)\n",
      "File \u001b[0;32m~/.local/lib/python3.10/site-packages/nengo/base.py:35\u001b[0m, in \u001b[0;36mNetworkMember.__call__\u001b[0;34m(cls, *args, **kwargs)\u001b[0m\n\u001b[1;32m     33\u001b[0m add_to_container \u001b[38;5;241m=\u001b[39m kwargs\u001b[38;5;241m.\u001b[39mpop(\u001b[38;5;124m\"\u001b[39m\u001b[38;5;124madd_to_container\u001b[39m\u001b[38;5;124m\"\u001b[39m, \u001b[38;5;28;01mTrue\u001b[39;00m)\n\u001b[1;32m     34\u001b[0m \u001b[38;5;66;03m# Do the __init__ before adding in case __init__ errors out\u001b[39;00m\n\u001b[0;32m---> 35\u001b[0m \u001b[43minst\u001b[49m\u001b[38;5;241;43m.\u001b[39;49m\u001b[38;5;21;43m__init__\u001b[39;49m\u001b[43m(\u001b[49m\u001b[38;5;241;43m*\u001b[39;49m\u001b[43margs\u001b[49m\u001b[43m,\u001b[49m\u001b[43m \u001b[49m\u001b[38;5;241;43m*\u001b[39;49m\u001b[38;5;241;43m*\u001b[39;49m\u001b[43mkwargs\u001b[49m\u001b[43m)\u001b[49m\n\u001b[1;32m     36\u001b[0m \u001b[38;5;28;01mif\u001b[39;00m add_to_container:\n\u001b[1;32m     37\u001b[0m     nengo\u001b[38;5;241m.\u001b[39mNetwork\u001b[38;5;241m.\u001b[39madd(inst)\n",
      "File \u001b[0;32m~/.local/lib/python3.10/site-packages/nengo/ensemble.py:165\u001b[0m, in \u001b[0;36mEnsemble.__init__\u001b[0;34m(self, n_neurons, dimensions, radius, encoders, intercepts, max_rates, eval_points, n_eval_points, neuron_type, gain, bias, noise, normalize_encoders, label, seed)\u001b[0m\n\u001b[1;32m    163\u001b[0m \u001b[38;5;28mself\u001b[39m\u001b[38;5;241m.\u001b[39mdimensions \u001b[38;5;241m=\u001b[39m dimensions\n\u001b[1;32m    164\u001b[0m \u001b[38;5;28mself\u001b[39m\u001b[38;5;241m.\u001b[39mradius \u001b[38;5;241m=\u001b[39m radius\n\u001b[0;32m--> 165\u001b[0m \u001b[38;5;28;43mself\u001b[39;49m\u001b[38;5;241;43m.\u001b[39;49m\u001b[43mencoders\u001b[49m \u001b[38;5;241m=\u001b[39m encoders\n\u001b[1;32m    166\u001b[0m \u001b[38;5;28mself\u001b[39m\u001b[38;5;241m.\u001b[39mintercepts \u001b[38;5;241m=\u001b[39m intercepts\n\u001b[1;32m    167\u001b[0m \u001b[38;5;28mself\u001b[39m\u001b[38;5;241m.\u001b[39mmax_rates \u001b[38;5;241m=\u001b[39m max_rates\n",
      "File \u001b[0;32m~/.local/lib/python3.10/site-packages/nengo/base.py:110\u001b[0m, in \u001b[0;36mNengoObject.__setattr__\u001b[0;34m(self, name, val)\u001b[0m\n\u001b[1;32m    104\u001b[0m \u001b[38;5;28;01mif\u001b[39;00m initialized \u001b[38;5;129;01mand\u001b[39;00m \u001b[38;5;129;01mnot\u001b[39;00m \u001b[38;5;28mhasattr\u001b[39m(\u001b[38;5;28mself\u001b[39m, name):\n\u001b[1;32m    105\u001b[0m     warnings\u001b[38;5;241m.\u001b[39mwarn(\n\u001b[1;32m    106\u001b[0m         \u001b[38;5;124mf\u001b[39m\u001b[38;5;124m\"\u001b[39m\u001b[38;5;124mCreating new attribute \u001b[39m\u001b[38;5;124m'\u001b[39m\u001b[38;5;132;01m{\u001b[39;00mname\u001b[38;5;132;01m}\u001b[39;00m\u001b[38;5;124m'\u001b[39m\u001b[38;5;124m on \u001b[39m\u001b[38;5;124m'\u001b[39m\u001b[38;5;132;01m{\u001b[39;00m\u001b[38;5;28mself\u001b[39m\u001b[38;5;132;01m}\u001b[39;00m\u001b[38;5;124m'\u001b[39m\u001b[38;5;124m. \u001b[39m\u001b[38;5;124m\"\u001b[39m\n\u001b[1;32m    107\u001b[0m         \u001b[38;5;124m\"\u001b[39m\u001b[38;5;124mDid you mean to change an existing attribute?\u001b[39m\u001b[38;5;124m\"\u001b[39m,\n\u001b[1;32m    108\u001b[0m         \u001b[38;5;167;01mSyntaxWarning\u001b[39;00m,\n\u001b[1;32m    109\u001b[0m     )\n\u001b[0;32m--> 110\u001b[0m \u001b[38;5;28;43msuper\u001b[39;49m\u001b[43m(\u001b[49m\u001b[43m)\u001b[49m\u001b[38;5;241;43m.\u001b[39;49m\u001b[38;5;21;43m__setattr__\u001b[39;49m\u001b[43m(\u001b[49m\u001b[43mname\u001b[49m\u001b[43m,\u001b[49m\u001b[43m \u001b[49m\u001b[43mval\u001b[49m\u001b[43m)\u001b[49m\n",
      "File \u001b[0;32m~/.local/lib/python3.10/site-packages/nengo/config.py:487\u001b[0m, in \u001b[0;36mSupportDefaultsMixin.__setattr__\u001b[0;34m(self, name, val)\u001b[0m\n\u001b[1;32m    485\u001b[0m     \u001b[38;5;28;01mexcept\u001b[39;00m ValidationError \u001b[38;5;28;01mas\u001b[39;00m e:\n\u001b[1;32m    486\u001b[0m         exc_info \u001b[38;5;241m=\u001b[39m sys\u001b[38;5;241m.\u001b[39mexc_info()\n\u001b[0;32m--> 487\u001b[0m         \u001b[38;5;28;01mraise\u001b[39;00m exc_info[\u001b[38;5;241m1\u001b[39m]\u001b[38;5;241m.\u001b[39mwith_traceback(\u001b[38;5;28;01mNone\u001b[39;00m) \u001b[38;5;28;01mfrom\u001b[39;00m \u001b[38;5;21;01me\u001b[39;00m\n\u001b[1;32m    488\u001b[0m \u001b[38;5;28;01melse\u001b[39;00m:\n\u001b[1;32m    489\u001b[0m     \u001b[38;5;28msuper\u001b[39m()\u001b[38;5;241m.\u001b[39m\u001b[38;5;21m__setattr__\u001b[39m(name, val)\n",
      "\u001b[0;31mValidationError\u001b[0m: Ensemble.encoders: shape[1] should be 2 (got 1)"
     ]
    }
   ],
   "source": [
    "model = nengo.Network(label=\"Test\")\n",
    "\n",
    "with model:\n",
    "    encoders = np.tile([[1], [1]], (100 // 2, 1))\n",
    "\n",
    "    def check2(x):\n",
    "        # print(\"x0: \", x[0])\n",
    "        # print(\"x1: \", x[1])\n",
    "        if ((x[0] - x[1]) < 0.1) or ((x[1] - x[0]) < 0.1):\n",
    "            return 1\n",
    "        else:\n",
    "            return -1\n",
    "\n",
    "    inp = Piecewise({0: 1, 1: 0})\n",
    "    nodeA = nengo.Node(inp)\n",
    "    ensA = nengo.Ensemble(n_neurons=100, dimensions=1)\n",
    "    inp2 = Piecewise({0: 1, 0.5: 0})\n",
    "    nodeB = nengo.Node(inp2)\n",
    "    ensB = nengo.Ensemble(n_neurons=100, dimensions=1)\n",
    "    combine = nengo.Ensemble(n_neurons=100, dimensions=2, radius=1.5)\n",
    "    nengo.Connection(nodeB, ensB)\n",
    "    nengo.Connection(nodeA, ensA)\n",
    "    nengo.Connection(ensA, combine[0])\n",
    "    nengo.Connection(ensB, combine[1])\n",
    "    out = nengo.Ensemble(n_neurons=100, dimensions=1)\n",
    "    nengo.Connection(combine, out, function=check2)\n",
    "\n",
    "    probe1 = nengo.Probe(ensA, synapse=0.01)\n",
    "    probe2 = nengo.Probe(out, synapse=0.01)\n",
    "    probe3 = nengo.Probe(ensB, synapse=0.01)\n",
    "\n",
    "    # length to run simulation (must be long enough to represent each character)\n",
    "    sim_time = 7\n",
    "with nengo.Simulator(model) as sim:\n",
    "    # run for sim_time seconds\n",
    "    sim.run(sim_time)\n",
    "\n",
    "\n",
    "plt.figure()\n",
    "plt.plot(sim.trange(), sim.data[probe1], label=\"ensA\")\n",
    "plt.plot(sim.trange(), sim.data[probe2], label=\"Out\")\n",
    "plt.plot(sim.trange(), sim.data[probe3], label=\"ensB\")\n",
    "plt.legend(loc=\"upper right\")\n",
    "plt.xlabel(\"time [s]\")\n",
    "plt.ylabel(\"Pulse height\")\n",
    "plt.title(\"Neuron Input\")"
   ]
  }
 ],
 "metadata": {
  "kernelspec": {
   "display_name": "Python 3",
   "language": "python",
   "name": "python3"
  },
  "language_info": {
   "codemirror_mode": {
    "name": "ipython",
    "version": 3
   },
   "file_extension": ".py",
   "mimetype": "text/x-python",
   "name": "python",
   "nbconvert_exporter": "python",
   "pygments_lexer": "ipython3",
   "version": "3.10.12"
  }
 },
 "nbformat": 4,
 "nbformat_minor": 2
}
