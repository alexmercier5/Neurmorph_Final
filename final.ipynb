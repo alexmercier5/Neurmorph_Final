{
 "cells": [
  {
   "cell_type": "code",
   "execution_count": 2,
   "metadata": {},
   "outputs": [
    {
     "name": "stderr",
     "output_type": "stream",
     "text": [
      "/usr/lib/python3/dist-packages/scipy/__init__.py:146: UserWarning: A NumPy version >=1.17.3 and <1.25.0 is required for this version of SciPy (detected version 1.26.3\n",
      "  warnings.warn(f\"A NumPy version >={np_minversion} and <{np_maxversion}\"\n"
     ]
    }
   ],
   "source": [
    "import matplotlib.pyplot as plt\n",
    "import numpy as np\n",
    "\n",
    "import nengo\n",
    "from nengo.processes import Piecewise\n",
    "from nengo.processes import WhiteSignal\n",
    "from nengo.solvers import LstsqL2"
   ]
  },
  {
   "cell_type": "code",
   "execution_count": 3,
   "metadata": {},
   "outputs": [],
   "source": [
    "Morse = {\n",
    "    # codes from https://www.itu.int/rec/R-REC-M.1677-1-200910-I/en\n",
    "    \"A\": \"10111\",\n",
    "    \"B\": \"111010101\",\n",
    "    \"C\": \"11101011101\",\n",
    "    \"D\": \"1110101\",\n",
    "    \"E\": \"1\",\n",
    "    \"F\": \"101011101\",\n",
    "    \"G\": \"111011101\",\n",
    "    \"H\": \"1010101\",\n",
    "    \"I\": \"101\",\n",
    "    \"J\": \"1011101110111\",\n",
    "    \"K\": \"111010111\",\n",
    "    \"L\": \"101110101\",\n",
    "    \"M\": \"1110111\",\n",
    "    \"N\": \"11101\",\n",
    "    \"O\": \"11101110111\",\n",
    "    \"P\": \"10111011101\",\n",
    "    \"Q\": \"1110111010111\",\n",
    "    \"R\": \"1011101\",\n",
    "    \"S\": \"10101\",\n",
    "    \"T\": \"111\",\n",
    "    \"U\": \"1010111\",\n",
    "    \"V\": \"101010111\",\n",
    "    \"W\": \"101110111\",\n",
    "    \"X\": \"11101010111\",\n",
    "    \"Y\": \"1110101110111\",\n",
    "    \"Z\": \"11101110101\",\n",
    "    \" \": \"0\",  # space\n",
    "    \"1\": \"10111011101110111\",\n",
    "    \"2\": \"101011101110111\",\n",
    "    \"3\": \"1010101110111\",\n",
    "    \"4\": \"10101010111\",\n",
    "    \"5\": \"101010101\",\n",
    "    \"6\": \"11101010101\",\n",
    "    \"7\": \"1110111010101\",\n",
    "    \"8\": \"111011101110101\",\n",
    "    \"9\": \"11101110111011101\",\n",
    "    \"0\": \"1110111011101110111\",\n",
    "    \".\": \"10111010111010111\",  # period\n",
    "    \",\": \"1110111010101110111\",  # comma\n",
    "    \":\": \"11101110111010101\",  # colon\n",
    "    \"?\": \"101011101110101\",  # question\n",
    "    \"'\": \"1011101110111011101\",  # apostrophe\n",
    "    \"-\": \"111010101010111\",  # dash or minus\n",
    "    \"/\": \"1110101011101\",  # slash\n",
    "    \"(\": \"111010111011101\",  # left parenthesis\n",
    "    \")\": \"1110101110111010111\",  # right parenthesis\n",
    "    \"\\\"\": \"101110101011101\",  # quote\n",
    "    \"=\": \"1110101010111\",  # equals\n",
    "    \"+\": \"1011101011101\",  # plus\n",
    "    \"@\": \"10111011101011101\",  # at sign (@)\n",
    "    # these punctuation marks are not included in the ITU recommendation,\n",
    "    # but are found in https://en.wikipedia.org/wiki/Morse_code\n",
    "    \"!\": \"1110101110101110111\",  # exclamation point\n",
    "    \"&\": \"10111010101\",  # ampersand (also prosign for 'WAIT')\n",
    "    \";\": \"11101011101011101\",  # semicolon\n",
    "    \"_\": \"10101110111010111\",  # underscore\n",
    "    \"$\": \"10101011101010111\"  # dollar sign\n",
    "}\n"
   ]
  },
  {
   "cell_type": "code",
   "execution_count": 4,
   "metadata": {},
   "outputs": [
    {
     "name": "stdout",
     "output_type": "stream",
     "text": [
      "\n",
      " A\n",
      "\n",
      " ['A']\n",
      "\n",
      " ['10111'] \n",
      "\n",
      "1\n"
     ]
    }
   ],
   "source": [
    "#take user input\n",
    "msg = input(\"Type phrase to translate here: \")\n",
    "print('\\n', msg)\n",
    "#convert to all uppercase\n",
    "msg = msg.upper()\n",
    "#transform from string to an array with each character a separate element\n",
    "msg = list(msg)\n",
    "print('\\n', msg)\n",
    "my_morse = []\n",
    "#evaluate each character in the list and convert to morse\n",
    "for i in msg:\n",
    "    my_morse.append(Morse.get(i))\n",
    "\n",
    "print('\\n', my_morse, '\\n')\n",
    "print(len(my_morse))"
   ]
  },
  {
   "cell_type": "code",
   "execution_count": 5,
   "metadata": {},
   "outputs": [
    {
     "name": "stdout",
     "output_type": "stream",
     "text": [
      "['1', '0', '1', '1', '1', '0', '0', '0', '0']\n"
     ]
    }
   ],
   "source": [
    "#parse the list into individual 1's and 0's. \n",
    "temp_inputs = [int for string in my_morse for int in string] #got this line from Chat GPT\n",
    "for i in range(0,4):\n",
    "    temp_inputs.append('0')\n",
    "print(temp_inputs)"
   ]
  },
  {
   "cell_type": "code",
   "execution_count": 6,
   "metadata": {},
   "outputs": [
    {
     "name": "stdout",
     "output_type": "stream",
     "text": [
      "[1, 2]\n"
     ]
    }
   ],
   "source": [
    "model = nengo.Network(label=\"Mercier Final Project\")\n",
    "\n",
    "send_inp = [] #1 for dot; 2 for dash\n",
    "count = 0\n",
    "for i in range(len(temp_inputs)):\n",
    "    if temp_inputs[i] == '1':\n",
    "        count += 1\n",
    "        if count == 3:\n",
    "            send_inp.append(2)\n",
    "            count = 0\n",
    "    if temp_inputs[i] == '0' and count == 1:\n",
    "        send_inp.append(1)\n",
    "        count = 0\n",
    "print(send_inp)\n",
    "\n",
    "with model:\n",
    "    def input_func(array_in):\n",
    "        t = [0]\n",
    "        x = [0]\n",
    "        for i in array_in:\n",
    "            if i == 1:\n",
    "                x.append(.5)\n",
    "                x.append(0)\n",
    "                t.append(t[-1]+.33)\n",
    "                t.append(t[-1]+.33)\n",
    "            elif i ==2: \n",
    "                x.append(1)\n",
    "                x.append(0)\n",
    "                t.append(t[-1]+.66)\n",
    "                t.append(t[-1]+1)\n",
    "        piecewise = Piecewise({time:value for time, value in zip(t,x)})\n",
    "        return piecewise\n",
    "        \n",
    "    input_node = nengo.Node(input_func(send_inp))"
   ]
  },
  {
   "cell_type": "code",
   "execution_count": 7,
   "metadata": {},
   "outputs": [],
   "source": [
    "with model:\n",
    "    ensembleA = nengo.Ensemble(n_neurons=200, dimensions=1)\n",
    "    nengo.Connection(input_node, ensembleA)\n",
    "    \n",
    "    probe1 = nengo.Probe(input_node)\n",
    "    probe2 = nengo.Probe(ensembleA, synapse=.01)\n",
    "    "
   ]
  },
  {
   "cell_type": "code",
   "execution_count": 8,
   "metadata": {},
   "outputs": [
    {
     "name": "stdout",
     "output_type": "stream",
     "text": [
      "Build finished in 0:00:01.                                                      \n",
      "Simulation finished in 0:00:01.                                                 \n"
     ]
    }
   ],
   "source": [
    "sim_time = 6\n",
    "with nengo.Simulator(model) as sim:\n",
    "    # run for 3 seconds\n",
    "    sim.run(sim_time)"
   ]
  },
  {
   "cell_type": "code",
   "execution_count": 9,
   "metadata": {},
   "outputs": [
    {
     "data": {
      "text/plain": [
       "Text(0.5, 1.0, 'Neuron Inputs')"
      ]
     },
     "execution_count": 9,
     "metadata": {},
     "output_type": "execute_result"
    },
    {
     "data": {
      "image/png": "[encoded data removed]",
      "text/plain": [
       "<Figure size 640x480 with 1 Axes>"
      ]
     },
     "metadata": {},
     "output_type": "display_data"
    }
   ],
   "source": [
    "plt.figure()\n",
    "#plt.plot(sim.trange(), sim.data[probe1], label=\"Input Node\")\n",
    "plt.plot(sim.trange(), sim.data[probe2], label=\"Input Ensemble\")\n",
    "plt.xlabel(\"time [s]\")\n",
    "#plt.legend([1, 2, 3, 4, 5])\n",
    "plt.title(\"Neuron Inputs\")"
   ]
  }
 ],
 "metadata": {
  "kernelspec": {
   "display_name": "495venv",
   "language": "python",
   "name": "python3"
  },
  "language_info": {
   "codemirror_mode": {
    "name": "ipython",
    "version": 3
   },
   "file_extension": ".py",
   "mimetype": "text/x-python",
   "name": "python",
   "nbconvert_exporter": "python",
   "pygments_lexer": "ipython3",
   "version": "3.10.12"
  }
 },
 "nbformat": 4,
 "nbformat_minor": 2
}
